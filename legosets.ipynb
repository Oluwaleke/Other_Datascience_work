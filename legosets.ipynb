{
 "cells": [
  {
   "cell_type": "code",
   "execution_count": 1,
   "id": "32bc9681",
   "metadata": {
    "scrolled": true
   },
   "outputs": [
    {
     "name": "stdout",
     "output_type": "stream",
     "text": [
      "Index(['item_number', 'name', 'year', 'theme', 'subtheme', 'pieces',\n",
      "       'minifigures', 'image_URL', 'price'],\n",
      "      dtype='object')\n"
     ]
    }
   ],
   "source": [
    "import pandas as pd\n",
    "lego = pd.read_csv('legosets.csv')\n",
    "print(lego.columns)"
   ]
  },
  {
   "cell_type": "code",
   "execution_count": null,
   "id": "b9133418",
   "metadata": {},
   "outputs": [],
   "source": []
  },
  {
   "cell_type": "code",
   "execution_count": 6,
   "id": "bf1fd440",
   "metadata": {},
   "outputs": [],
   "source": [
    "# Group the data by 'theme_id' and count the number of occurrences\n",
    "theme_counts = lego['theme'].value_counts()"
   ]
  },
  {
   "cell_type": "code",
   "execution_count": 9,
   "id": "1ab106c4",
   "metadata": {},
   "outputs": [],
   "source": [
    "# Create a summary table\n",
    "summary_table = pd.DataFrame({'Themes': theme_counts.index, 'Count': theme_counts.values})"
   ]
  },
  {
   "cell_type": "code",
   "execution_count": 10,
   "id": "b7d22812",
   "metadata": {},
   "outputs": [
    {
     "name": "stdout",
     "output_type": "stream",
     "text": [
      "                        Themes  Count\n",
      "0                        Duplo    471\n",
      "1                    Star Wars    379\n",
      "2                         Town    314\n",
      "3      Collectable Minifigures    311\n",
      "4                         City    282\n",
      "..                         ...    ...\n",
      "110               Serious Play      4\n",
      "111                  Spybotics      4\n",
      "112                  Hobby Set      4\n",
      "113               The Simpsons      2\n",
      "114  Avatar The Last Airbender      2\n",
      "\n",
      "[115 rows x 2 columns]\n"
     ]
    }
   ],
   "source": [
    "# Display the summary table\n",
    "print(summary_table)"
   ]
  },
  {
   "cell_type": "markdown",
   "id": "bfd84e99",
   "metadata": {},
   "source": [
    "newlego = lego.assign(decade=lego.year-lego.year%10).astype({'decade': 'string'})\n",
    "\n",
    "\n",
    "The given Python code is used to add a new column called 'decade' to a Pandas DataFrame object named 'lego' and populate it with the decade information derived from the 'year' column in the 'lego' DataFrame. Here's a breakdown of how the code works:\n",
    "\n",
    "lego.year: This selects the 'year' column from the 'lego' DataFrame, which presumably contains information about the year of each Lego set.\n",
    "\n",
    "lego.year % 10: This calculates the remainder when each year value in the 'year' column is divided by 10. This is done to determine the decade information for each year value. For example, if the 'year' value is 1985, then 1985 % 10 would be 5, indicating that it belongs to the 1980s decade.\n",
    "\n",
    "lego.year - lego.year % 10: This subtracts the remainder calculated in the previous step from the 'year' value, effectively rounding down the year value to the nearest decade. For example, if the 'year' value is 1985, then 1985 - 1985 % 10 would be 1980, representing the start of the 1980s decade.\n",
    "\n",
    "lego.assign(decade=lego.year-lego.year%10): This creates a new column called 'decade' in the 'lego' DataFrame and populates it with the decade information calculated in the previous step using the assign() method. The 'decade' column will contain the rounded down year values, representing the start of each decade.\n",
    "\n",
    "astype({'decade': 'string'}): This converts the data type of the 'decade' column to string using the astype() method, ensuring that the decade values are treated as strings instead of numeric values. This may be done to represent the decade information as categorical or text data rather than numerical data, depending on the specific use case.\n",
    "\n",
    "\n",
    "\n",
    "\n",
    "\n"
   ]
  },
  {
   "cell_type": "code",
   "execution_count": 11,
   "id": "26e035c2",
   "metadata": {},
   "outputs": [],
   "source": [
    "newlego = lego.assign(decade=lego.year-lego.year%10).astype({'decade': 'string'})"
   ]
  },
  {
   "cell_type": "code",
   "execution_count": 12,
   "id": "c5e5dfdf",
   "metadata": {},
   "outputs": [
    {
     "data": {
      "text/html": [
       "<div>\n",
       "<style scoped>\n",
       "    .dataframe tbody tr th:only-of-type {\n",
       "        vertical-align: middle;\n",
       "    }\n",
       "\n",
       "    .dataframe tbody tr th {\n",
       "        vertical-align: top;\n",
       "    }\n",
       "\n",
       "    .dataframe thead th {\n",
       "        text-align: right;\n",
       "    }\n",
       "</style>\n",
       "<table border=\"1\" class=\"dataframe\">\n",
       "  <thead>\n",
       "    <tr style=\"text-align: right;\">\n",
       "      <th></th>\n",
       "      <th>item_number</th>\n",
       "      <th>name</th>\n",
       "      <th>year</th>\n",
       "      <th>theme</th>\n",
       "      <th>subtheme</th>\n",
       "      <th>pieces</th>\n",
       "      <th>minifigures</th>\n",
       "      <th>image_URL</th>\n",
       "      <th>price</th>\n",
       "      <th>decade</th>\n",
       "    </tr>\n",
       "  </thead>\n",
       "  <tbody>\n",
       "    <tr>\n",
       "      <th>0</th>\n",
       "      <td>10246</td>\n",
       "      <td>Detective's Office</td>\n",
       "      <td>2015</td>\n",
       "      <td>Advanced Models</td>\n",
       "      <td>Modular Buildings</td>\n",
       "      <td>2262.0</td>\n",
       "      <td>6.0</td>\n",
       "      <td>http://images.brickset.com/sets/images/10246-1...</td>\n",
       "      <td>132.99</td>\n",
       "      <td>2010</td>\n",
       "    </tr>\n",
       "    <tr>\n",
       "      <th>1</th>\n",
       "      <td>10247</td>\n",
       "      <td>Ferris Wheel</td>\n",
       "      <td>2015</td>\n",
       "      <td>Advanced Models</td>\n",
       "      <td>Fairground</td>\n",
       "      <td>2464.0</td>\n",
       "      <td>10.0</td>\n",
       "      <td>http://images.brickset.com/sets/images/10247-1...</td>\n",
       "      <td>149.99</td>\n",
       "      <td>2010</td>\n",
       "    </tr>\n",
       "    <tr>\n",
       "      <th>2</th>\n",
       "      <td>10248</td>\n",
       "      <td>Ferrari F40</td>\n",
       "      <td>2015</td>\n",
       "      <td>Advanced Models</td>\n",
       "      <td>Vehicles</td>\n",
       "      <td>1158.0</td>\n",
       "      <td>NaN</td>\n",
       "      <td>http://images.brickset.com/sets/images/10248-1...</td>\n",
       "      <td>69.99</td>\n",
       "      <td>2010</td>\n",
       "    </tr>\n",
       "    <tr>\n",
       "      <th>3</th>\n",
       "      <td>10249</td>\n",
       "      <td>Toy Shop</td>\n",
       "      <td>2015</td>\n",
       "      <td>Advanced Models</td>\n",
       "      <td>Winter Village</td>\n",
       "      <td>898.0</td>\n",
       "      <td>NaN</td>\n",
       "      <td>http://images.brickset.com/sets/images/10249-1...</td>\n",
       "      <td>59.99</td>\n",
       "      <td>2010</td>\n",
       "    </tr>\n",
       "    <tr>\n",
       "      <th>4</th>\n",
       "      <td>10581</td>\n",
       "      <td>Ducks</td>\n",
       "      <td>2015</td>\n",
       "      <td>Duplo</td>\n",
       "      <td>Forest Animals</td>\n",
       "      <td>13.0</td>\n",
       "      <td>1.0</td>\n",
       "      <td>http://images.brickset.com/sets/images/10581-1...</td>\n",
       "      <td>9.99</td>\n",
       "      <td>2010</td>\n",
       "    </tr>\n",
       "  </tbody>\n",
       "</table>\n",
       "</div>"
      ],
      "text/plain": [
       "  item_number                name  year            theme           subtheme  \\\n",
       "0       10246  Detective's Office  2015  Advanced Models  Modular Buildings   \n",
       "1       10247        Ferris Wheel  2015  Advanced Models         Fairground   \n",
       "2       10248         Ferrari F40  2015  Advanced Models           Vehicles   \n",
       "3       10249            Toy Shop  2015  Advanced Models     Winter Village   \n",
       "4       10581               Ducks  2015            Duplo     Forest Animals   \n",
       "\n",
       "   pieces  minifigures                                          image_URL  \\\n",
       "0  2262.0          6.0  http://images.brickset.com/sets/images/10246-1...   \n",
       "1  2464.0         10.0  http://images.brickset.com/sets/images/10247-1...   \n",
       "2  1158.0          NaN  http://images.brickset.com/sets/images/10248-1...   \n",
       "3   898.0          NaN  http://images.brickset.com/sets/images/10249-1...   \n",
       "4    13.0          1.0  http://images.brickset.com/sets/images/10581-1...   \n",
       "\n",
       "    price decade  \n",
       "0  132.99   2010  \n",
       "1  149.99   2010  \n",
       "2   69.99   2010  \n",
       "3   59.99   2010  \n",
       "4    9.99   2010  "
      ]
     },
     "execution_count": 12,
     "metadata": {},
     "output_type": "execute_result"
    }
   ],
   "source": [
    "newlego.head()"
   ]
  },
  {
   "cell_type": "markdown",
   "id": "eba28c38",
   "metadata": {},
   "source": [
    "I will use the popular Python plotting library Matplotlib to reproduce the graphical plot as accurately as possible. Here's the Python code to generate the plot:"
   ]
  },
  {
   "cell_type": "code",
   "execution_count": 13,
   "id": "b697888b",
   "metadata": {},
   "outputs": [],
   "source": [
    "import matplotlib.pyplot as plt"
   ]
  },
  {
   "cell_type": "code",
   "execution_count": 14,
   "id": "a7d448e7",
   "metadata": {},
   "outputs": [],
   "source": [
    "# Group by 'decade' and count the number of Lego sets in each decade\n",
    "lego_counts = newlego.groupby('decade').size()"
   ]
  },
  {
   "cell_type": "code",
   "execution_count": 15,
   "id": "e3d69b29",
   "metadata": {},
   "outputs": [
    {
     "data": {
      "image/png": "[encoded data removed]",
      "text/plain": [
       "<Figure size 800x600 with 1 Axes>"
      ]
     },
     "metadata": {},
     "output_type": "display_data"
    }
   ],
   "source": [
    "# Create a bar plot of the Lego set counts by decade\n",
    "plt.figure(figsize=(8, 6))\n",
    "lego_counts.plot(kind='bar', width=0.8, edgecolor='black', linewidth=1)\n",
    "plt.title('Number of Lego Sets by Decade')\n",
    "plt.xlabel('Decade')\n",
    "plt.ylabel('Number of Lego Sets')\n",
    "plt.xticks(rotation=45, ha='right')\n",
    "plt.tight_layout()\n",
    "plt.show()"
   ]
  },
  {
   "cell_type": "markdown",
   "id": "5bf52c56",
   "metadata": {},
   "source": [
    "Using the dataset output from part (b), apply a Python plotting library (of your choice) to reproduce the graphical plot below as accurately as possible.  Focus on the content of the plot rather than the exact look.  Do not worry about any colours used.  Include both Python code and the plot that your code produces in your answer."
   ]
  },
  {
   "cell_type": "code",
   "execution_count": 16,
   "id": "6564ba37",
   "metadata": {},
   "outputs": [],
   "source": [
    "import seaborn as sns"
   ]
  },
  {
   "cell_type": "code",
   "execution_count": 20,
   "id": "7b8f153a",
   "metadata": {},
   "outputs": [
    {
     "data": {
      "image/png": "[encoded data removed]",
      "text/plain": [
       "<Figure size 800x600 with 1 Axes>"
      ]
     },
     "metadata": {},
     "output_type": "display_data"
    }
   ],
   "source": [
    "# Create a boxplot of the number of Lego sets by decade\n",
    "plt.figure(figsize=(8, 6))\n",
    "sns.boxplot(x='minifigures', y='decade', data=newlego)\n",
    "plt.title('Distribution of minifigures in Lego Sets by Decade')\n",
    "plt.xlabel('minifigures')\n",
    "plt.ylabel('Decade')\n",
    "plt.xticks(rotation=45, ha='right')\n",
    "plt.tight_layout()\n",
    "plt.show()"
   ]
  },
  {
   "cell_type": "code",
   "execution_count": 21,
   "id": "c426b065",
   "metadata": {},
   "outputs": [],
   "source": [
    "# Filter for Lego sets with \"Pirates\" theme\n",
    "pirates_lego = newlego[newlego['theme'] == 'Pirates']"
   ]
  },
  {
   "cell_type": "code",
   "execution_count": 22,
   "id": "f0b3c2f1",
   "metadata": {},
   "outputs": [],
   "source": [
    "# Group by subtheme and calculate the mean number of Lego pieces per set\n",
    "pirates_lego_summary = pirates_lego.groupby('subtheme').mean(numeric_only=True)"
   ]
  },
  {
   "cell_type": "code",
   "execution_count": 30,
   "id": "808225c8",
   "metadata": {},
   "outputs": [
    {
     "name": "stdout",
     "output_type": "stream",
     "text": [
      "                     pieces\n",
      "subtheme                   \n",
      "Islanders        196.285714\n",
      "Imperial Guards  196.125000\n",
      "Seasonal         148.000000\n",
      "Imperial Armada  127.666667\n",
      "Accessories       34.500000\n"
     ]
    }
   ],
   "source": [
    "# Sort the summary table by mean number of Lego pieces per set in descending order\n",
    "pirates_lego_summary = pirates_lego_summary.sort_values(by=['pieces'], ascending=False)\n",
    "\n",
    "# Display the summary table\n",
    "print(pirates_lego_summary[['pieces']])"
   ]
  },
  {
   "cell_type": "code",
   "execution_count": null,
   "id": "80094547",
   "metadata": {},
   "outputs": [],
   "source": []
  }
 ],
 "metadata": {
  "kernelspec": {
   "display_name": "Python 3 (ipykernel)",
   "language": "python",
   "name": "python3"
  },
  "language_info": {
   "codemirror_mode": {
    "name": "ipython",
    "version": 3
   },
   "file_extension": ".py",
   "mimetype": "text/x-python",
   "name": "python",
   "nbconvert_exporter": "python",
   "pygments_lexer": "ipython3",
   "version": "3.9.13"
  }
 },
 "nbformat": 4,
 "nbformat_minor": 5
}
